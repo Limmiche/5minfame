{
 "cells": [
  {
   "cell_type": "markdown",
   "id": "6f68d908",
   "metadata": {},
   "source": [
    "# **What's new in Python 3.11: My favorite additions** - *5 minutes of fame*\n",
    "### *2 December 2022 @ CzodrowskiLab*"
   ]
  },
  {
   "cell_type": "markdown",
   "id": "66d0f64b",
   "metadata": {},
   "source": [
    "## Aishvarya Tandon\n",
    "* PhD student - [CzodrowskiLab](https://www.czodrowskilab.org) / [Waldmann group](https://www.mpi-dortmund.mpg.de/research/departments/chemical-biology)\n",
    "* Contact information: [Email 1](mailto:aishvarya.tandon@tu-dortmund.de), [Email 2](mailto:tandonai@uni-mainz.de), [GitHub](https://github.com/aish-tan)"
   ]
  },
  {
   "cell_type": "markdown",
   "id": "0626395a",
   "metadata": {},
   "source": [
    "Python 3.11 came out little more than a month ago. While it has [loads of new features](https://docs.python.org/3/whatsnew/3.11.html), here are 3 of my favorites.\n",
    "\n",
    "The following work is based on my opinion. Credits of all the software used and demonstrated belongs to their respective authors and the community.\n",
    "\n",
    "**License**: MIT"
   ]
  },
  {
   "cell_type": "code",
   "execution_count": 1,
   "id": "d571b9cc",
   "metadata": {},
   "outputs": [
    {
     "name": "stdout",
     "output_type": "stream",
     "text": [
      "3.11.0 | packaged by conda-forge | (main, Oct 25 2022, 06:18:27) [GCC 10.4.0]\n"
     ]
    }
   ],
   "source": [
    "import sys\n",
    "print(sys.version)"
   ]
  },
  {
   "cell_type": "markdown",
   "id": "97ff1581",
   "metadata": {},
   "source": [
    "## Speed\n",
    "Official release notes mention:\n",
    "\n",
    "<p><cite>Python 3.11 is between 10-60% faster than Python 3.10. On average, we measured a 1.25x speedup on the standard benchmark suite.</p>"
   ]
  },
  {
   "cell_type": "markdown",
   "id": "bf7ab3be",
   "metadata": {},
   "source": [
    "Few results at:\n",
    "* Official benchmarks: [GitHub Page](https://github.com/faster-cpython/ideas#published-results)\n",
    "* Speed test by Dennis Bakhuis: [His GitHub Page](https://github.com/dennisbakhuis/python3.11_speedtest)\n",
    "\n",
    "Why is this so important? \n",
    "<span style=\"color:green\">*These speedup comes without changing your code! Just continue to write Python code properly :)*</span>"
   ]
  },
  {
   "cell_type": "markdown",
   "id": "29eec8be",
   "metadata": {},
   "source": [
    "## Better error messages\n",
    "\n",
    "In Python 3.11, the interpreter now point to the exact expression that causes an error when printing tracebacks, instead of just pointing the lines which was done by the previous versions."
   ]
  },
  {
   "cell_type": "markdown",
   "id": "8291c892-0b31-4e57-9c90-ab94baf0c1ee",
   "metadata": {},
   "source": [
    "![python_3.11 error](Python-3_11_Screenshot.png)"
   ]
  },
  {
   "cell_type": "markdown",
   "id": "1493f6bd-3db5-45da-9c75-802c0e9f45bd",
   "metadata": {},
   "source": [
    "Compared to Python 3.10 or before:"
   ]
  },
  {
   "cell_type": "markdown",
   "id": "1125ada8-a65a-4e06-b895-50c9f1e04ccc",
   "metadata": {},
   "source": [
    "![python_3.10_error](Python-3_10_Screenshot.png)"
   ]
  },
  {
   "cell_type": "markdown",
   "id": "f6ceace5",
   "metadata": {},
   "source": [
    "At this moment, it is only visible while using Terminal/console and not inside Jupyter notebook."
   ]
  },
  {
   "cell_type": "markdown",
   "id": "2fcd9d59",
   "metadata": {},
   "source": [
    "## Support for parsing TOML in the standard library"
   ]
  },
  {
   "cell_type": "markdown",
   "id": "a1192d6d",
   "metadata": {},
   "source": [
    "[tomllib](https://docs.python.org/3/library/tomllib.html#module-tomllib) is a module which provides an interface for parsing TOML. With this module now present in the standard library, dependence on external modules for parsing TOML is now redundant. \n",
    "\n",
    "At this moment, this module does not support writing TOML."
   ]
  },
  {
   "cell_type": "code",
   "execution_count": 2,
   "id": "fb0076bb",
   "metadata": {},
   "outputs": [],
   "source": [
    "import tomllib"
   ]
  },
  {
   "cell_type": "code",
   "execution_count": 3,
   "id": "9d1b76a0",
   "metadata": {},
   "outputs": [],
   "source": [
    "with open(\"load_file.toml\", \"rb\") as f:\n",
    "    data = tomllib.load(f)"
   ]
  },
  {
   "cell_type": "code",
   "execution_count": 4,
   "id": "406e445e",
   "metadata": {},
   "outputs": [
    {
     "data": {
      "text/plain": [
       "{'Model_Name': 'Best_model_ever',\n",
       " 'Numbers_of_Folds': 5,\n",
       " 'Balanced_Accuracy_CV_Metrics': {'Balanced_Accuracy_of_all_Folds': [0.83,\n",
       "   0.86,\n",
       "   0.81,\n",
       "   0.81,\n",
       "   0.83],\n",
       "  'Mean_Balanced_Accuracy_CV': 0.83,\n",
       "  'Standard_Deviation_Mean_Balanced_Accuracy_CV': 0.02},\n",
       " 'Cohens_Kappa_CV_Metrics': {'Cohens_Kappa_of_all_Folds': [0.83,\n",
       "   0.86,\n",
       "   0.81,\n",
       "   0.81,\n",
       "   0.83],\n",
       "  'Mean_Cohens_Kappa_CV': 0.65,\n",
       "  'Standard_Deviation_Mean_Cohens_Kappa_CV': 0.02},\n",
       " 'Test_Set_Metrics': {'Balanced_Accuracy_Test_Set': 0.83,\n",
       "  'Cohens_Kappa_Test_Set': 0.66,\n",
       "  'Confusion_Matrix_Test_Set': [[129, 20], [23, 85]]}}"
      ]
     },
     "execution_count": 4,
     "metadata": {},
     "output_type": "execute_result"
    }
   ],
   "source": [
    "#The TOML file is now parsed as a dictionary\n",
    "\n",
    "data"
   ]
  },
  {
   "cell_type": "code",
   "execution_count": 5,
   "id": "14151ebd",
   "metadata": {},
   "outputs": [],
   "source": [
    "#or simply parse a TOML string \n",
    "\n",
    "load_string = \"\"\"\n",
    "Model_name = \"Best_model_ever\"\n",
    "Numbers_of_fold = 5\n",
    "\"\"\"\n",
    "\n",
    "data2 = tomllib.loads(load_string)"
   ]
  },
  {
   "cell_type": "code",
   "execution_count": 6,
   "id": "d9027d9d",
   "metadata": {},
   "outputs": [
    {
     "data": {
      "text/plain": [
       "{'Model_name': 'Best_model_ever', 'Numbers_of_fold': 5}"
      ]
     },
     "execution_count": 6,
     "metadata": {},
     "output_type": "execute_result"
    }
   ],
   "source": [
    "#The TOML formatted string is now parsed as a dictionary\n",
    "\n",
    "data2"
   ]
  },
  {
   "cell_type": "markdown",
   "id": "3b5e03e1",
   "metadata": {},
   "source": [
    "You can read more about TOML in my previous [5 mins of fame notebook](https://github.com/czodrowskilab/5minfame/blob/main/2022_10_07-Tandon-write_and_read_configs_with_toml.ipynb)."
   ]
  }
 ],
 "metadata": {
  "kernelspec": {
   "display_name": "Python 3 (ipykernel)",
   "language": "python",
   "name": "python3"
  },
  "language_info": {
   "codemirror_mode": {
    "name": "ipython",
    "version": 3
   },
   "file_extension": ".py",
   "mimetype": "text/x-python",
   "name": "python",
   "nbconvert_exporter": "python",
   "pygments_lexer": "ipython3",
   "version": "3.11.0"
  }
 },
 "nbformat": 4,
 "nbformat_minor": 5
}
